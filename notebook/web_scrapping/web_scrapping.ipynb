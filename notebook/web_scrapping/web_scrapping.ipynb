{
 "cells": [
  {
   "cell_type": "markdown",
   "metadata": {},
   "source": [
    "# Web Scrapping : League of Graphs"
   ]
  },
  {
   "cell_type": "markdown",
   "metadata": {},
   "source": [
    "### Import packages"
   ]
  },
  {
   "cell_type": "code",
   "execution_count": 1,
   "metadata": {},
   "outputs": [],
   "source": [
    "from bs4 import BeautifulSoup\n",
    "import pandas as pd\n",
    "import requests\n",
    "from selenium import webdriver\n",
    "import time\n",
    "import csv\n",
    "\n",
    "from selenium.webdriver.support.select import Select\n",
    "from selenium.webdriver.support.ui import WebDriverWait\n",
    "from selenium.webdriver.common.by import By\n",
    "from selenium.webdriver.support import expected_conditions as EC\n",
    "from selenium.webdriver.chrome.service import Service"
   ]
  },
  {
   "cell_type": "markdown",
   "metadata": {},
   "source": [
    "Initialisation du driver avec google chrome et chargement du driver avec l'url de league of graphs"
   ]
  },
  {
   "cell_type": "code",
   "execution_count": 2,
   "metadata": {},
   "outputs": [],
   "source": [
    "url_page = \"https://www.leagueofgraphs.com/rankings/rank-distribution\"\n",
    "\n",
    "# Création d'instance avec Google Chrome\n",
    "driver = webdriver.Chrome()\n",
    "\n",
    "\n",
    "driver.get(url_page)\n",
    "time.sleep(5)"
   ]
  },
  {
   "cell_type": "code",
   "execution_count": 3,
   "metadata": {},
   "outputs": [
    {
     "name": "stdout",
     "output_type": "stream",
     "text": [
      "Données sauvegardées dans '../../data/raw/elo_distribution_brut_data.csv'\n"
     ]
    }
   ],
   "source": [
    "# Attendre que le tableau soit présent et visible\n",
    "table = WebDriverWait(driver, 10).until(\n",
    "    EC.presence_of_element_located((By.XPATH, \"//*[@id='mainContent']/div/div[1]/div[1]/table\"))\n",
    ")\n",
    "\n",
    "# Récupérer l'en-tête du tableau (titres des colonnes)\n",
    "header = []\n",
    "header_elements = driver.find_elements(By.XPATH, \"//*[@id='mainContent']/div/div[1]/div[1]/table/thead/tr/th\")\n",
    "for th in header_elements:\n",
    "    header.append(th.text)\n",
    "\n",
    "# Récupérer toutes les lignes du tableau\n",
    "rows = driver.find_elements(By.XPATH, \"//*[@id='mainContent']/div/div[1]/div[1]/table/tbody/tr\")\n",
    "\n",
    "# Liste pour stocker les données extraites\n",
    "data = []\n",
    "\n",
    "# Parcourir toutes les lignes et extraire les informations\n",
    "for row in rows:\n",
    "    row_data = []\n",
    "    cols = row.find_elements(By.XPATH, \".//td\")\n",
    "    \n",
    "    # Extraire les données de chaque cellule\n",
    "    for col in cols:\n",
    "        row_data.append(col.text.strip())\n",
    "    \n",
    "    # Ajouter la ligne de données à la liste\n",
    "    data.append(row_data)\n",
    "\n",
    "# Sauvegarder les données dans un fichier CSV\n",
    "# On le save dans la dossier data/raw\n",
    "csv_filename = \"../../data/raw/elo_distribution_brut_data.csv\"\n",
    "with open(csv_filename, mode=\"w\", newline=\"\", encoding=\"utf-8\") as file:\n",
    "    writer = csv.writer(file)\n",
    "    \n",
    "    # Écrire l'en-tête du tableau\n",
    "    writer.writerow(header)\n",
    "    \n",
    "    # Écrire les lignes du tableau\n",
    "    for row in data:\n",
    "        writer.writerow(row)\n",
    "\n",
    "print(f\"Données sauvegardées dans '{csv_filename}'\")\n",
    "\n",
    "# Fermer le driver après avoir terminé\n",
    "driver.quit()"
   ]
  },
  {
   "cell_type": "code",
   "execution_count": 4,
   "metadata": {},
   "outputs": [
    {
     "data": {
      "text/plain": [
       "' # Attendre que le tableau soit présent et visible\\ntable = WebDriverWait(driver, 10).until(\\n    EC.presence_of_element_located((By.XPATH, \"//*[@id=\\'mainContent\\']/div/div[1]/div[1]/table\"))\\n)\\n\\n# 1. Récupérer le texte de la balise <br> dans la deuxième ligne, deuxième cellule\\nchallenger = driver.find_element(By.XPATH, \"//*[@id=\\'mainContent\\']/div/div[1]/div[1]/table/tbody/tr[2]/td[2]\").text\\nprint(f\"Challenger (Role): {challenger}\")\\n\\n# 2. Récupérer le texte de la balise <i> dans la deuxième ligne, troisième cellule\\nrank = driver.find_element(By.XPATH, \"//*[@id=\\'mainContent\\']/div/div[1]/div[1]/table/tbody/tr[2]/td[3]/i\").text\\nprint(f\"Rank: {rank}\")\\n\\n# Fermer le driver après avoir terminé\\ndriver.quit() '"
      ]
     },
     "execution_count": 4,
     "metadata": {},
     "output_type": "execute_result"
    }
   ],
   "source": [
    "\"\"\" # Attendre que le tableau soit présent et visible\n",
    "table = WebDriverWait(driver, 10).until(\n",
    "    EC.presence_of_element_located((By.XPATH, \"//*[@id='mainContent']/div/div[1]/div[1]/table\"))\n",
    ")\n",
    "\n",
    "# 1. Récupérer le texte de la balise <br> dans la deuxième ligne, deuxième cellule\n",
    "challenger = driver.find_element(By.XPATH, \"//*[@id='mainContent']/div/div[1]/div[1]/table/tbody/tr[2]/td[2]\").text\n",
    "print(f\"Challenger (Role): {challenger}\")\n",
    "\n",
    "# 2. Récupérer le texte de la balise <i> dans la deuxième ligne, troisième cellule\n",
    "rank = driver.find_element(By.XPATH, \"//*[@id='mainContent']/div/div[1]/div[1]/table/tbody/tr[2]/td[3]/i\").text\n",
    "print(f\"Rank: {rank}\")\n",
    "\n",
    "# Fermer le driver après avoir terminé\n",
    "driver.quit() \"\"\""
   ]
  }
 ],
 "metadata": {
  "kernelspec": {
   "display_name": "venv",
   "language": "python",
   "name": "python3"
  },
  "language_info": {
   "codemirror_mode": {
    "name": "ipython",
    "version": 3
   },
   "file_extension": ".py",
   "mimetype": "text/x-python",
   "name": "python",
   "nbconvert_exporter": "python",
   "pygments_lexer": "ipython3",
   "version": "3.12.0"
  }
 },
 "nbformat": 4,
 "nbformat_minor": 2
}
